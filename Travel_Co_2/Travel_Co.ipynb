{
 "cells": [
  {
   "cell_type": "code",
   "execution_count": 16,
   "id": "5ed06acf-b1c9-4b38-9dd9-dd92570ed5ef",
   "metadata": {},
   "outputs": [],
   "source": [
    "# Bagging Ensemble Technique\n",
    "\n",
    "# Random Forest \n",
    "\n",
    "# Travel Co. dataset"
   ]
  },
  {
   "cell_type": "code",
   "execution_count": 17,
   "id": "9b5965ba-b4dd-469e-b030-2697dc8ea3ac",
   "metadata": {},
   "outputs": [],
   "source": [
    "import pandas as pd\n",
    "import matplotlib.pyplot as plt\n",
    "\n",
    "import warnings;warnings.filterwarnings('ignore')"
   ]
  },
  {
   "cell_type": "code",
   "execution_count": 18,
   "id": "a8102cf6-125f-4a9e-b517-7b3efb2ad1aa",
   "metadata": {},
   "outputs": [
    {
     "data": {
      "text/html": [
       "<div>\n",
       "<style scoped>\n",
       "    .dataframe tbody tr th:only-of-type {\n",
       "        vertical-align: middle;\n",
       "    }\n",
       "\n",
       "    .dataframe tbody tr th {\n",
       "        vertical-align: top;\n",
       "    }\n",
       "\n",
       "    .dataframe thead th {\n",
       "        text-align: right;\n",
       "    }\n",
       "</style>\n",
       "<table border=\"1\" class=\"dataframe\">\n",
       "  <thead>\n",
       "    <tr style=\"text-align: right;\">\n",
       "      <th></th>\n",
       "      <th>CustomerID</th>\n",
       "      <th>ProdTaken</th>\n",
       "      <th>Age</th>\n",
       "      <th>TypeofContact</th>\n",
       "      <th>CityTier</th>\n",
       "      <th>DurationOfPitch</th>\n",
       "      <th>Occupation</th>\n",
       "      <th>Gender</th>\n",
       "      <th>NumberOfPersonVisiting</th>\n",
       "      <th>NumberOfFollowups</th>\n",
       "      <th>ProductPitched</th>\n",
       "      <th>PreferredPropertyStar</th>\n",
       "      <th>MaritalStatus</th>\n",
       "      <th>NumberOfTrips</th>\n",
       "      <th>Passport</th>\n",
       "      <th>PitchSatisfactionScore</th>\n",
       "      <th>OwnCar</th>\n",
       "      <th>NumberOfChildrenVisiting</th>\n",
       "      <th>Designation</th>\n",
       "      <th>MonthlyIncome</th>\n",
       "    </tr>\n",
       "  </thead>\n",
       "  <tbody>\n",
       "    <tr>\n",
       "      <th>0</th>\n",
       "      <td>200000</td>\n",
       "      <td>1</td>\n",
       "      <td>41.0</td>\n",
       "      <td>Self Enquiry</td>\n",
       "      <td>3</td>\n",
       "      <td>6.0</td>\n",
       "      <td>Salaried</td>\n",
       "      <td>Female</td>\n",
       "      <td>3</td>\n",
       "      <td>3.0</td>\n",
       "      <td>Deluxe</td>\n",
       "      <td>3.0</td>\n",
       "      <td>Single</td>\n",
       "      <td>1.0</td>\n",
       "      <td>1</td>\n",
       "      <td>2</td>\n",
       "      <td>1</td>\n",
       "      <td>0.0</td>\n",
       "      <td>Manager</td>\n",
       "      <td>20993.0</td>\n",
       "    </tr>\n",
       "    <tr>\n",
       "      <th>1</th>\n",
       "      <td>200001</td>\n",
       "      <td>0</td>\n",
       "      <td>49.0</td>\n",
       "      <td>Company Invited</td>\n",
       "      <td>1</td>\n",
       "      <td>14.0</td>\n",
       "      <td>Salaried</td>\n",
       "      <td>Male</td>\n",
       "      <td>3</td>\n",
       "      <td>4.0</td>\n",
       "      <td>Deluxe</td>\n",
       "      <td>4.0</td>\n",
       "      <td>Divorced</td>\n",
       "      <td>2.0</td>\n",
       "      <td>0</td>\n",
       "      <td>3</td>\n",
       "      <td>1</td>\n",
       "      <td>2.0</td>\n",
       "      <td>Manager</td>\n",
       "      <td>20130.0</td>\n",
       "    </tr>\n",
       "    <tr>\n",
       "      <th>2</th>\n",
       "      <td>200002</td>\n",
       "      <td>1</td>\n",
       "      <td>37.0</td>\n",
       "      <td>Self Enquiry</td>\n",
       "      <td>1</td>\n",
       "      <td>8.0</td>\n",
       "      <td>Free Lancer</td>\n",
       "      <td>Male</td>\n",
       "      <td>3</td>\n",
       "      <td>4.0</td>\n",
       "      <td>Basic</td>\n",
       "      <td>3.0</td>\n",
       "      <td>Single</td>\n",
       "      <td>7.0</td>\n",
       "      <td>1</td>\n",
       "      <td>3</td>\n",
       "      <td>0</td>\n",
       "      <td>0.0</td>\n",
       "      <td>Executive</td>\n",
       "      <td>17090.0</td>\n",
       "    </tr>\n",
       "    <tr>\n",
       "      <th>3</th>\n",
       "      <td>200003</td>\n",
       "      <td>0</td>\n",
       "      <td>33.0</td>\n",
       "      <td>Company Invited</td>\n",
       "      <td>1</td>\n",
       "      <td>9.0</td>\n",
       "      <td>Salaried</td>\n",
       "      <td>Female</td>\n",
       "      <td>2</td>\n",
       "      <td>3.0</td>\n",
       "      <td>Basic</td>\n",
       "      <td>3.0</td>\n",
       "      <td>Divorced</td>\n",
       "      <td>2.0</td>\n",
       "      <td>1</td>\n",
       "      <td>5</td>\n",
       "      <td>1</td>\n",
       "      <td>1.0</td>\n",
       "      <td>Executive</td>\n",
       "      <td>17909.0</td>\n",
       "    </tr>\n",
       "    <tr>\n",
       "      <th>4</th>\n",
       "      <td>200004</td>\n",
       "      <td>0</td>\n",
       "      <td>NaN</td>\n",
       "      <td>Self Enquiry</td>\n",
       "      <td>1</td>\n",
       "      <td>8.0</td>\n",
       "      <td>Small Business</td>\n",
       "      <td>Male</td>\n",
       "      <td>2</td>\n",
       "      <td>3.0</td>\n",
       "      <td>Basic</td>\n",
       "      <td>4.0</td>\n",
       "      <td>Divorced</td>\n",
       "      <td>1.0</td>\n",
       "      <td>0</td>\n",
       "      <td>5</td>\n",
       "      <td>1</td>\n",
       "      <td>0.0</td>\n",
       "      <td>Executive</td>\n",
       "      <td>18468.0</td>\n",
       "    </tr>\n",
       "  </tbody>\n",
       "</table>\n",
       "</div>"
      ],
      "text/plain": [
       "   CustomerID  ProdTaken   Age    TypeofContact  CityTier  DurationOfPitch  \\\n",
       "0      200000          1  41.0     Self Enquiry         3              6.0   \n",
       "1      200001          0  49.0  Company Invited         1             14.0   \n",
       "2      200002          1  37.0     Self Enquiry         1              8.0   \n",
       "3      200003          0  33.0  Company Invited         1              9.0   \n",
       "4      200004          0   NaN     Self Enquiry         1              8.0   \n",
       "\n",
       "       Occupation  Gender  NumberOfPersonVisiting  NumberOfFollowups  \\\n",
       "0        Salaried  Female                       3                3.0   \n",
       "1        Salaried    Male                       3                4.0   \n",
       "2     Free Lancer    Male                       3                4.0   \n",
       "3        Salaried  Female                       2                3.0   \n",
       "4  Small Business    Male                       2                3.0   \n",
       "\n",
       "  ProductPitched  PreferredPropertyStar MaritalStatus  NumberOfTrips  \\\n",
       "0         Deluxe                    3.0        Single            1.0   \n",
       "1         Deluxe                    4.0      Divorced            2.0   \n",
       "2          Basic                    3.0        Single            7.0   \n",
       "3          Basic                    3.0      Divorced            2.0   \n",
       "4          Basic                    4.0      Divorced            1.0   \n",
       "\n",
       "   Passport  PitchSatisfactionScore  OwnCar  NumberOfChildrenVisiting  \\\n",
       "0         1                       2       1                       0.0   \n",
       "1         0                       3       1                       2.0   \n",
       "2         1                       3       0                       0.0   \n",
       "3         1                       5       1                       1.0   \n",
       "4         0                       5       1                       0.0   \n",
       "\n",
       "  Designation  MonthlyIncome  \n",
       "0     Manager        20993.0  \n",
       "1     Manager        20130.0  \n",
       "2   Executive        17090.0  \n",
       "3   Executive        17909.0  \n",
       "4   Executive        18468.0  "
      ]
     },
     "execution_count": 18,
     "metadata": {},
     "output_type": "execute_result"
    }
   ],
   "source": [
    "df = pd.read_csv('Travel.csv')\n",
    "df.head()"
   ]
  },
  {
   "cell_type": "code",
   "execution_count": 19,
   "id": "4b606767-903b-4cdc-ac98-3b5e95b6ab9a",
   "metadata": {},
   "outputs": [
    {
     "data": {
      "text/plain": [
       "CustomerID                    0\n",
       "ProdTaken                     0\n",
       "Age                         226\n",
       "TypeofContact                25\n",
       "CityTier                      0\n",
       "DurationOfPitch             251\n",
       "Occupation                    0\n",
       "Gender                        0\n",
       "NumberOfPersonVisiting        0\n",
       "NumberOfFollowups            45\n",
       "ProductPitched                0\n",
       "PreferredPropertyStar        26\n",
       "MaritalStatus                 0\n",
       "NumberOfTrips               140\n",
       "Passport                      0\n",
       "PitchSatisfactionScore        0\n",
       "OwnCar                        0\n",
       "NumberOfChildrenVisiting     66\n",
       "Designation                   0\n",
       "MonthlyIncome               233\n",
       "dtype: int64"
      ]
     },
     "execution_count": 19,
     "metadata": {},
     "output_type": "execute_result"
    }
   ],
   "source": [
    "# Feature Engg.\n",
    "df.isnull().sum()"
   ]
  },
  {
   "cell_type": "code",
   "execution_count": 20,
   "id": "444ace0a-ef81-4f23-8393-d4f0e325d226",
   "metadata": {},
   "outputs": [
    {
     "name": "stdout",
     "output_type": "stream",
     "text": [
      "<class 'pandas.core.frame.DataFrame'>\n",
      "RangeIndex: 4888 entries, 0 to 4887\n",
      "Data columns (total 20 columns):\n",
      " #   Column                    Non-Null Count  Dtype  \n",
      "---  ------                    --------------  -----  \n",
      " 0   CustomerID                4888 non-null   int64  \n",
      " 1   ProdTaken                 4888 non-null   int64  \n",
      " 2   Age                       4662 non-null   float64\n",
      " 3   TypeofContact             4863 non-null   object \n",
      " 4   CityTier                  4888 non-null   int64  \n",
      " 5   DurationOfPitch           4637 non-null   float64\n",
      " 6   Occupation                4888 non-null   object \n",
      " 7   Gender                    4888 non-null   object \n",
      " 8   NumberOfPersonVisiting    4888 non-null   int64  \n",
      " 9   NumberOfFollowups         4843 non-null   float64\n",
      " 10  ProductPitched            4888 non-null   object \n",
      " 11  PreferredPropertyStar     4862 non-null   float64\n",
      " 12  MaritalStatus             4888 non-null   object \n",
      " 13  NumberOfTrips             4748 non-null   float64\n",
      " 14  Passport                  4888 non-null   int64  \n",
      " 15  PitchSatisfactionScore    4888 non-null   int64  \n",
      " 16  OwnCar                    4888 non-null   int64  \n",
      " 17  NumberOfChildrenVisiting  4822 non-null   float64\n",
      " 18  Designation               4888 non-null   object \n",
      " 19  MonthlyIncome             4655 non-null   float64\n",
      "dtypes: float64(7), int64(7), object(6)\n",
      "memory usage: 763.9+ KB\n"
     ]
    }
   ],
   "source": [
    "df.info()"
   ]
  },
  {
   "cell_type": "code",
   "execution_count": 21,
   "id": "3d31d1f7-2c6a-42dd-b01d-499fbf88f722",
   "metadata": {},
   "outputs": [
    {
     "data": {
      "text/plain": [
       "array(['Female', 'Male', 'Fe Male'], dtype=object)"
      ]
     },
     "execution_count": 21,
     "metadata": {},
     "output_type": "execute_result"
    }
   ],
   "source": [
    "df['Gender'].unique()"
   ]
  },
  {
   "cell_type": "code",
   "execution_count": 22,
   "id": "be9a5781-ca6d-483d-8ac8-f87559a4c03f",
   "metadata": {},
   "outputs": [
    {
     "data": {
      "text/plain": [
       "array(['Single', 'Divorced', 'Married', 'Unmarried'], dtype=object)"
      ]
     },
     "execution_count": 22,
     "metadata": {},
     "output_type": "execute_result"
    }
   ],
   "source": [
    "df['MaritalStatus'].unique()"
   ]
  },
  {
   "cell_type": "code",
   "execution_count": 23,
   "id": "00b1139c-ddff-44a5-88c8-fbb5443d8e8d",
   "metadata": {},
   "outputs": [],
   "source": [
    "df['Gender'] = df['Gender'].replace('Fe Male','Female')\n",
    "df['MaritalStatus'] = df['MaritalStatus'].replace('Single','Unmarried')"
   ]
  },
  {
   "cell_type": "code",
   "execution_count": 24,
   "id": "ca820514-e6ea-4045-8469-806a78a97714",
   "metadata": {},
   "outputs": [
    {
     "data": {
      "text/plain": [
       "array(['Unmarried', 'Divorced', 'Married'], dtype=object)"
      ]
     },
     "execution_count": 24,
     "metadata": {},
     "output_type": "execute_result"
    }
   ],
   "source": [
    "df['MaritalStatus'].unique()"
   ]
  },
  {
   "cell_type": "code",
   "execution_count": 25,
   "id": "093e0963-15d3-4491-af85-8b661d35e18c",
   "metadata": {},
   "outputs": [
    {
     "name": "stdout",
     "output_type": "stream",
     "text": [
      "\"Age\" has 4.6236% missing values\n",
      "\"TypeofContact\" has 0.5115% missing values\n",
      "\"DurationOfPitch\" has 5.1350% missing values\n",
      "\"NumberOfFollowups\" has 0.9206% missing values\n",
      "\"PreferredPropertyStar\" has 0.5319% missing values\n",
      "\"NumberOfTrips\" has 2.8642% missing values\n",
      "\"NumberOfChildrenVisiting\" has 1.3502% missing values\n",
      "\"MonthlyIncome\" has 4.7668% missing values\n"
     ]
    }
   ],
   "source": [
    "# missing values\n",
    "\n",
    "features_with_na = [features for features in df.columns if df[features].isnull().sum()>=1]\n",
    "\n",
    "for feature in features_with_na:\n",
    "    print(f'\"{feature}\" has {df[feature].isnull().mean()*100:.4f}% missing values')"
   ]
  },
  {
   "cell_type": "code",
   "execution_count": 26,
   "id": "5407cf66-1bc5-41ad-8bea-54a953f844c9",
   "metadata": {},
   "outputs": [],
   "source": [
    "# replacing na/missing values\n",
    "\n",
    "df['Age'].fillna(df['Age'].median(),inplace=True)\n",
    "\n",
    "df.TypeofContact.fillna(df.TypeofContact.mode()[0],inplace=True)\n",
    "\n",
    "df.DurationOfPitch.fillna(df.DurationOfPitch.median(),inplace=True)\n",
    "\n",
    "df.NumberOfFollowups.fillna(df.NumberOfFollowups.mode()[0],inplace=True)\n",
    "\n",
    "df.PreferredPropertyStar.fillna(df.PreferredPropertyStar.mode()[0],inplace=True)\n",
    "\n",
    "df.NumberOfTrips.fillna(df.NumberOfTrips.median(),inplace=True)\n",
    "\n",
    "df.NumberOfChildrenVisiting.fillna(df.NumberOfChildrenVisiting.mode()[0],inplace=True)\n",
    "\n",
    "df.MonthlyIncome.fillna(df.MonthlyIncome.median(),inplace=True)"
   ]
  },
  {
   "cell_type": "code",
   "execution_count": 27,
   "id": "afc1fae2-4d61-4720-850b-aa1b6c696648",
   "metadata": {},
   "outputs": [
    {
     "data": {
      "text/plain": [
       "CustomerID                  0\n",
       "ProdTaken                   0\n",
       "Age                         0\n",
       "TypeofContact               0\n",
       "CityTier                    0\n",
       "DurationOfPitch             0\n",
       "Occupation                  0\n",
       "Gender                      0\n",
       "NumberOfPersonVisiting      0\n",
       "NumberOfFollowups           0\n",
       "ProductPitched              0\n",
       "PreferredPropertyStar       0\n",
       "MaritalStatus               0\n",
       "NumberOfTrips               0\n",
       "Passport                    0\n",
       "PitchSatisfactionScore      0\n",
       "OwnCar                      0\n",
       "NumberOfChildrenVisiting    0\n",
       "Designation                 0\n",
       "MonthlyIncome               0\n",
       "dtype: int64"
      ]
     },
     "execution_count": 27,
     "metadata": {},
     "output_type": "execute_result"
    }
   ],
   "source": [
    "df.isnull().sum()"
   ]
  },
  {
   "cell_type": "code",
   "execution_count": 28,
   "id": "28e95e33-f278-4e56-9b96-aa7bc17b7bc6",
   "metadata": {},
   "outputs": [],
   "source": [
    "# dropping non-essential features\n",
    "\n",
    "df.drop('CustomerID',axis=1,inplace=True)"
   ]
  },
  {
   "cell_type": "code",
   "execution_count": 33,
   "id": "224243be-3236-4774-869a-a944f3c4ba8f",
   "metadata": {},
   "outputs": [
    {
     "data": {
      "text/html": [
       "<div>\n",
       "<style scoped>\n",
       "    .dataframe tbody tr th:only-of-type {\n",
       "        vertical-align: middle;\n",
       "    }\n",
       "\n",
       "    .dataframe tbody tr th {\n",
       "        vertical-align: top;\n",
       "    }\n",
       "\n",
       "    .dataframe thead th {\n",
       "        text-align: right;\n",
       "    }\n",
       "</style>\n",
       "<table border=\"1\" class=\"dataframe\">\n",
       "  <thead>\n",
       "    <tr style=\"text-align: right;\">\n",
       "      <th></th>\n",
       "      <th>ProdTaken</th>\n",
       "      <th>Age</th>\n",
       "      <th>TypeofContact</th>\n",
       "      <th>CityTier</th>\n",
       "      <th>DurationOfPitch</th>\n",
       "      <th>Occupation</th>\n",
       "      <th>Gender</th>\n",
       "      <th>NumberOfFollowups</th>\n",
       "      <th>ProductPitched</th>\n",
       "      <th>PreferredPropertyStar</th>\n",
       "      <th>MaritalStatus</th>\n",
       "      <th>NumberOfTrips</th>\n",
       "      <th>Passport</th>\n",
       "      <th>PitchSatisfactionScore</th>\n",
       "      <th>OwnCar</th>\n",
       "      <th>Designation</th>\n",
       "      <th>MonthlyIncome</th>\n",
       "      <th>n_Visitors</th>\n",
       "    </tr>\n",
       "  </thead>\n",
       "  <tbody>\n",
       "  </tbody>\n",
       "</table>\n",
       "</div>"
      ],
      "text/plain": [
       "Empty DataFrame\n",
       "Columns: [ProdTaken, Age, TypeofContact, CityTier, DurationOfPitch, Occupation, Gender, NumberOfFollowups, ProductPitched, PreferredPropertyStar, MaritalStatus, NumberOfTrips, Passport, PitchSatisfactionScore, OwnCar, Designation, MonthlyIncome, n_Visitors]\n",
       "Index: []"
      ]
     },
     "execution_count": 33,
     "metadata": {},
     "output_type": "execute_result"
    }
   ],
   "source": [
    "df.head(0)"
   ]
  },
  {
   "cell_type": "code",
   "execution_count": 32,
   "id": "f1ea0d95-f74b-4f4c-bae0-52f2a70d1ef7",
   "metadata": {},
   "outputs": [],
   "source": [
    "df['n_Visitors'] = df['NumberOfChildrenVisiting'] + df['NumberOfPersonVisiting']\n",
    "\n",
    "df.drop(['NumberOfChildrenVisiting','NumberOfPersonVisiting'],axis=1,inplace=True)"
   ]
  },
  {
   "cell_type": "code",
   "execution_count": 36,
   "id": "7ff72137-2142-40cc-9256-41755d48c795",
   "metadata": {},
   "outputs": [],
   "source": [
    "# segregating features\n",
    "\n",
    "num_cols = [feats for feats in df.columns if df[feats].dtype != 'O']\n",
    "\n",
    "cat_cols = [feats for feats in df.columns if df[feats].dtype == 'O']\n",
    "\n",
    "discrete_feats = [feat for feat in num_cols if len(df[feat].unique())<=25]\n",
    "\n",
    "continuos_feats = [feat for feat in num_cols if feat not in discrete_feats]"
   ]
  },
  {
   "cell_type": "code",
   "execution_count": 38,
   "id": "713c6fe3-2a9e-4f04-a29c-904f83d39fef",
   "metadata": {},
   "outputs": [],
   "source": [
    "# separating features & target\n",
    "X = df.drop(['ProdTaken'],axis=1)\n",
    "y = df['ProdTaken']"
   ]
  },
  {
   "cell_type": "code",
   "execution_count": 39,
   "id": "3f73d4f3-96f5-4dc6-80ab-48a87a93724d",
   "metadata": {},
   "outputs": [],
   "source": [
    "# train-test split\n",
    "from sklearn.model_selection import train_test_split\n",
    "X_train,X_test,y_train,y_test = train_test_split(X,y,test_size=0.2,random_state=42)"
   ]
  },
  {
   "cell_type": "code",
   "execution_count": 41,
   "id": "2a9546f5-37aa-4ba3-b162-2af81f0a0235",
   "metadata": {},
   "outputs": [],
   "source": [
    "# Handling \n",
    "cat_feats = X.select_dtypes(include='object').columns\n",
    "num_feats = X.select_dtypes(exclude='object').columns"
   ]
  },
  {
   "cell_type": "code",
   "execution_count": 42,
   "id": "db1e68d7-875a-4c65-82e0-6f9936c545c6",
   "metadata": {},
   "outputs": [],
   "source": [
    "from sklearn.preprocessing import OneHotEncoder,StandardScaler\n",
    "from sklearn.compose import ColumnTransformer\n",
    "\n",
    "num_scaler = StandardScaler()\n",
    "oh_encoder = OneHotEncoder()\n",
    "\n",
    "preprocessor = ColumnTransformer(\n",
    "    [('one hot E',oh_encoder,cat_feats),\n",
    "     ('Stdardized',num_scaler,num_feats)\n",
    "    ]\n",
    ")\n",
    "\n",
    "X_train = preprocessor.fit_transform(X_train)\n",
    "X_test = preprocessor.transform(X_test)"
   ]
  },
  {
   "cell_type": "code",
   "execution_count": 45,
   "id": "6185d402-7c50-4419-bc19-d877d36a6a40",
   "metadata": {},
   "outputs": [
    {
     "name": "stdout",
     "output_type": "stream",
     "text": [
      "Model performance for training data\n",
      "Random Forest has accuracy_score = 1.0\n",
      "Random Forest has confusion matrix = [[3181    0]\n",
      " [   0  729]]\n",
      "Random Forest has report =               precision    recall  f1-score   support\n",
      "\n",
      "           0       1.00      1.00      1.00      3181\n",
      "           1       1.00      1.00      1.00       729\n",
      "\n",
      "    accuracy                           1.00      3910\n",
      "   macro avg       1.00      1.00      1.00      3910\n",
      "weighted avg       1.00      1.00      1.00      3910\n",
      "\n",
      "-----------------------------\n",
      "Model performance for test data\n",
      "Random Forest has accuracy_score = 0.9274028629856851\n",
      "Random Forest has confusion matrix = [[785   2]\n",
      " [ 69 122]]\n",
      "Random Forest has report =               precision    recall  f1-score   support\n",
      "\n",
      "           0       0.92      1.00      0.96       787\n",
      "           1       0.98      0.64      0.77       191\n",
      "\n",
      "    accuracy                           0.93       978\n",
      "   macro avg       0.95      0.82      0.87       978\n",
      "weighted avg       0.93      0.93      0.92       978\n",
      "\n",
      "Model performance for training data\n",
      "Decision Tree has accuracy_score = 1.0\n",
      "Decision Tree has confusion matrix = [[3181    0]\n",
      " [   0  729]]\n",
      "Decision Tree has report =               precision    recall  f1-score   support\n",
      "\n",
      "           0       1.00      1.00      1.00      3181\n",
      "           1       1.00      1.00      1.00       729\n",
      "\n",
      "    accuracy                           1.00      3910\n",
      "   macro avg       1.00      1.00      1.00      3910\n",
      "weighted avg       1.00      1.00      1.00      3910\n",
      "\n",
      "-----------------------------\n",
      "Model performance for test data\n",
      "Decision Tree has accuracy_score = 0.9192229038854806\n",
      "Decision Tree has confusion matrix = [[750  37]\n",
      " [ 42 149]]\n",
      "Decision Tree has report =               precision    recall  f1-score   support\n",
      "\n",
      "           0       0.95      0.95      0.95       787\n",
      "           1       0.80      0.78      0.79       191\n",
      "\n",
      "    accuracy                           0.92       978\n",
      "   macro avg       0.87      0.87      0.87       978\n",
      "weighted avg       0.92      0.92      0.92       978\n",
      "\n"
     ]
    }
   ],
   "source": [
    "from sklearn.ensemble import RandomForestClassifier\n",
    "from sklearn.tree import DecisionTreeClassifier\n",
    "from sklearn.metrics import accuracy_score,confusion_matrix,classification_report,roc_auc_score,roc_curve\n",
    "\n",
    "models = {\n",
    "    'Random Forest':RandomForestClassifier(),\n",
    "    'Decision Tree' : DecisionTreeClassifier()\n",
    "}\n",
    "\n",
    "for name,model in models.items():\n",
    "    model.fit(X_train,y_train)\n",
    "\n",
    "    y_train_pred = model.predict(X_train)\n",
    "    y_test_pred = model.predict(X_test)\n",
    "\n",
    "    print('Model performance for training data')\n",
    "    print(f'{name} has accuracy_score = {accuracy_score(y_train,y_train_pred)}')\n",
    "    print(f'{name} has confusion matrix = {confusion_matrix(y_train,y_train_pred)}')\n",
    "    print(f'{name} has report = {classification_report(y_train,y_train_pred)}')\n",
    "\n",
    "    print('-----------------------------')\n",
    "    print('Model performance for test data')\n",
    "    print(f'{name} has accuracy_score = {accuracy_score(y_test,y_test_pred)}')\n",
    "    print(f'{name} has confusion matrix = {confusion_matrix(y_test,y_test_pred)}')\n",
    "    print(f'{name} has report = {classification_report(y_test,y_test_pred)}')"
   ]
  },
  {
   "cell_type": "code",
   "execution_count": 51,
   "id": "90e03457-1863-4958-be98-a4a8bb4b9fa8",
   "metadata": {},
   "outputs": [],
   "source": [
    "# hyperparametres tunning\n",
    "\n",
    "rf_params={'max_depth':[5,8,15,None,10],\n",
    "           'max_features':[5,7,'auto',8],\n",
    "           'min_samples_split':[2,8,15,20],\n",
    "           'n_estimators':[100,200,500,1000]\n",
    "          }"
   ]
  },
  {
   "cell_type": "code",
   "execution_count": 53,
   "id": "a24cf22c-b89f-4f25-8bd2-33b6f187e053",
   "metadata": {},
   "outputs": [
    {
     "name": "stdout",
     "output_type": "stream",
     "text": [
      "-----Best Params for Random Forest C-----\n",
      "{'n_estimators': 1000, 'min_samples_split': 2, 'max_features': 8, 'max_depth': None}\n"
     ]
    }
   ],
   "source": [
    "# RandomizedSearchCV\n",
    "from sklearn.model_selection import RandomizedSearchCV\n",
    "\n",
    "randomcv_models=[\n",
    "    ('Random Forest C',RandomForestClassifier(),rf_params)\n",
    "    ]\n",
    "\n",
    "model_params={}\n",
    "\n",
    "for name,model,params in randomcv_models:\n",
    "    random = RandomizedSearchCV(model,\n",
    "                                cv=3,\n",
    "                                param_distributions=params,\n",
    "                                n_iter=100)\n",
    "\n",
    "    random.fit(X_train,y_train)\n",
    "\n",
    "    model_params[name] = random.best_params_\n",
    "\n",
    "for model_name in model_params:\n",
    "    print(f'-----Best Params for {model_name}-----')\n",
    "    print(model_params[model_name])"
   ]
  },
  {
   "cell_type": "code",
   "execution_count": 56,
   "id": "606ab5af-fbe9-4364-9048-8d6258335df4",
   "metadata": {},
   "outputs": [
    {
     "name": "stdout",
     "output_type": "stream",
     "text": [
      "Model performance for training data\n",
      "Random Forest has accuracy_score = 1.0\n",
      "Random Forest has confusion matrix = [[3181    0]\n",
      " [   0  729]]\n",
      "Random Forest has report =               precision    recall  f1-score   support\n",
      "\n",
      "           0       1.00      1.00      1.00      3181\n",
      "           1       1.00      1.00      1.00       729\n",
      "\n",
      "    accuracy                           1.00      3910\n",
      "   macro avg       1.00      1.00      1.00      3910\n",
      "weighted avg       1.00      1.00      1.00      3910\n",
      "\n",
      "-----------------------------\n",
      "Model performance for test data\n",
      "Random Forest has accuracy_score = 0.9386503067484663\n",
      "Random Forest has confusion matrix = [[783   4]\n",
      " [ 56 135]]\n",
      "Random Forest has report =               precision    recall  f1-score   support\n",
      "\n",
      "           0       0.93      0.99      0.96       787\n",
      "           1       0.97      0.71      0.82       191\n",
      "\n",
      "    accuracy                           0.94       978\n",
      "   macro avg       0.95      0.85      0.89       978\n",
      "weighted avg       0.94      0.94      0.93       978\n",
      "\n",
      "Random Forest has auc = 0.8508618453002655\n"
     ]
    }
   ],
   "source": [
    "# substituing best params \n",
    "\n",
    "models = {\n",
    "    'Random Forest':RandomForestClassifier(n_estimators= 1000, min_samples_split= 2, max_features= 8, max_depth= None),\n",
    "}\n",
    "\n",
    "for name,model in models.items():\n",
    "    model.fit(X_train,y_train)\n",
    "\n",
    "    y_train_pred = model.predict(X_train)\n",
    "    y_test_pred = model.predict(X_test)\n",
    "\n",
    "    print('Model performance for training data')\n",
    "    print(f'{name} has accuracy_score = {accuracy_score(y_train,y_train_pred)}')\n",
    "    print(f'{name} has confusion matrix = {confusion_matrix(y_train,y_train_pred)}')\n",
    "    print(f'{name} has report = {classification_report(y_train,y_train_pred)}')\n",
    "\n",
    "    print('-----------------------------')\n",
    "    print('Model performance for test data')\n",
    "    print(f'{name} has accuracy_score = {accuracy_score(y_test,y_test_pred)}')\n",
    "    print(f'{name} has confusion matrix = {confusion_matrix(y_test,y_test_pred)}')\n",
    "    print(f'{name} has report = {classification_report(y_test,y_test_pred)}')\n",
    "    print(f'{name} has auc = {roc_auc_score(y_test,y_test_pred)}')"
   ]
  },
  {
   "cell_type": "code",
   "execution_count": 60,
   "id": "2db03df8-3b12-4341-98eb-674191c07e66",
   "metadata": {},
   "outputs": [
    {
     "data": {
      "image/png": "[encoded data removed]",
      "text/plain": [
       "<Figure size 640x480 with 1 Axes>"
      ]
     },
     "metadata": {},
     "output_type": "display_data"
    }
   ],
   "source": [
    "# plotting ROC curve \n",
    "\n",
    "auc_model=[\n",
    "    {'label':'RF-Classifier',\n",
    "     'model':RandomForestClassifier(n_estimators= 1000, min_samples_split= 2, max_features= 8, max_depth= None),\n",
    "     'auc' : 0.85}\n",
    "]\n",
    "\n",
    "for algo in auc_model:\n",
    "    model = algo['model']\n",
    "    model.fit(X_train,y_train)\n",
    "    y_proba = model.predict_proba(X_test)[:, 1]\n",
    "\n",
    "    fpr, tpr, thresholds = roc_curve(y_test, y_proba)\n",
    "\n",
    "    auc_score = roc_auc_score(y_test, y_proba)\n",
    "\n",
    "    plt.plot(fpr, tpr, label=f\"{algo['label']} (AUC = {auc_score:.2f})\")"
   ]
  }
 ],
 "metadata": {
  "kernelspec": {
   "display_name": "Python 3 (ipykernel)",
   "language": "python",
   "name": "python3"
  },
  "language_info": {
   "codemirror_mode": {
    "name": "ipython",
    "version": 3
   },
   "file_extension": ".py",
   "mimetype": "text/x-python",
   "name": "python",
   "nbconvert_exporter": "python",
   "pygments_lexer": "ipython3",
   "version": "3.13.5"
  }
 },
 "nbformat": 4,
 "nbformat_minor": 5
}
