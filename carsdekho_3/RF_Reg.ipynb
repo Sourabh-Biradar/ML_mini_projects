{
 "cells": [
  {
   "cell_type": "code",
   "execution_count": 1,
   "id": "33bd35e6-e165-4b69-96a8-6263e0bd05f9",
   "metadata": {},
   "outputs": [],
   "source": [
    "# Random Forest : RF\n",
    "\n",
    "# RF-Regressor\n",
    "\n",
    "# carsdekho.com dataset"
   ]
  },
  {
   "cell_type": "code",
   "execution_count": 2,
   "id": "6fde5125-1875-4996-858b-db74dd9e5838",
   "metadata": {},
   "outputs": [],
   "source": [
    "import pandas as pd\n",
    "import numpy as np\n",
    "import matplotlib.pyplot as plt\n",
    "import seaborn as sns"
   ]
  },
  {
   "cell_type": "code",
   "execution_count": 6,
   "id": "7bf2895b-dbd6-40b7-99c6-5db40cff9dcb",
   "metadata": {},
   "outputs": [
    {
     "data": {
      "text/html": [
       "<div>\n",
       "<style scoped>\n",
       "    .dataframe tbody tr th:only-of-type {\n",
       "        vertical-align: middle;\n",
       "    }\n",
       "\n",
       "    .dataframe tbody tr th {\n",
       "        vertical-align: top;\n",
       "    }\n",
       "\n",
       "    .dataframe thead th {\n",
       "        text-align: right;\n",
       "    }\n",
       "</style>\n",
       "<table border=\"1\" class=\"dataframe\">\n",
       "  <thead>\n",
       "    <tr style=\"text-align: right;\">\n",
       "      <th></th>\n",
       "      <th>model</th>\n",
       "      <th>vehicle_age</th>\n",
       "      <th>km_driven</th>\n",
       "      <th>seller_type</th>\n",
       "      <th>fuel_type</th>\n",
       "      <th>transmission_type</th>\n",
       "      <th>mileage</th>\n",
       "      <th>engine</th>\n",
       "      <th>max_power</th>\n",
       "      <th>seats</th>\n",
       "      <th>selling_price</th>\n",
       "    </tr>\n",
       "  </thead>\n",
       "  <tbody>\n",
       "    <tr>\n",
       "      <th>0</th>\n",
       "      <td>Alto</td>\n",
       "      <td>9</td>\n",
       "      <td>120000</td>\n",
       "      <td>Individual</td>\n",
       "      <td>Petrol</td>\n",
       "      <td>Manual</td>\n",
       "      <td>19.70</td>\n",
       "      <td>796</td>\n",
       "      <td>46.30</td>\n",
       "      <td>5</td>\n",
       "      <td>120000</td>\n",
       "    </tr>\n",
       "    <tr>\n",
       "      <th>1</th>\n",
       "      <td>Grand</td>\n",
       "      <td>5</td>\n",
       "      <td>20000</td>\n",
       "      <td>Individual</td>\n",
       "      <td>Petrol</td>\n",
       "      <td>Manual</td>\n",
       "      <td>18.90</td>\n",
       "      <td>1197</td>\n",
       "      <td>82.00</td>\n",
       "      <td>5</td>\n",
       "      <td>550000</td>\n",
       "    </tr>\n",
       "    <tr>\n",
       "      <th>2</th>\n",
       "      <td>i20</td>\n",
       "      <td>11</td>\n",
       "      <td>60000</td>\n",
       "      <td>Individual</td>\n",
       "      <td>Petrol</td>\n",
       "      <td>Manual</td>\n",
       "      <td>17.00</td>\n",
       "      <td>1197</td>\n",
       "      <td>80.00</td>\n",
       "      <td>5</td>\n",
       "      <td>215000</td>\n",
       "    </tr>\n",
       "    <tr>\n",
       "      <th>3</th>\n",
       "      <td>Alto</td>\n",
       "      <td>9</td>\n",
       "      <td>37000</td>\n",
       "      <td>Individual</td>\n",
       "      <td>Petrol</td>\n",
       "      <td>Manual</td>\n",
       "      <td>20.92</td>\n",
       "      <td>998</td>\n",
       "      <td>67.10</td>\n",
       "      <td>5</td>\n",
       "      <td>226000</td>\n",
       "    </tr>\n",
       "    <tr>\n",
       "      <th>4</th>\n",
       "      <td>Ecosport</td>\n",
       "      <td>6</td>\n",
       "      <td>30000</td>\n",
       "      <td>Dealer</td>\n",
       "      <td>Diesel</td>\n",
       "      <td>Manual</td>\n",
       "      <td>22.77</td>\n",
       "      <td>1498</td>\n",
       "      <td>98.59</td>\n",
       "      <td>5</td>\n",
       "      <td>570000</td>\n",
       "    </tr>\n",
       "  </tbody>\n",
       "</table>\n",
       "</div>"
      ],
      "text/plain": [
       "      model  vehicle_age  km_driven seller_type fuel_type transmission_type  \\\n",
       "0      Alto            9     120000  Individual    Petrol            Manual   \n",
       "1     Grand            5      20000  Individual    Petrol            Manual   \n",
       "2       i20           11      60000  Individual    Petrol            Manual   \n",
       "3      Alto            9      37000  Individual    Petrol            Manual   \n",
       "4  Ecosport            6      30000      Dealer    Diesel            Manual   \n",
       "\n",
       "   mileage  engine  max_power  seats  selling_price  \n",
       "0    19.70     796      46.30      5         120000  \n",
       "1    18.90    1197      82.00      5         550000  \n",
       "2    17.00    1197      80.00      5         215000  \n",
       "3    20.92     998      67.10      5         226000  \n",
       "4    22.77    1498      98.59      5         570000  "
      ]
     },
     "execution_count": 6,
     "metadata": {},
     "output_type": "execute_result"
    }
   ],
   "source": [
    "df = pd.read_csv('cardekho.csv')\n",
    "\n",
    "df.drop(['Unnamed: 0','car_name','brand'],axis=1,inplace=True)\n",
    "\n",
    "df.head()"
   ]
  },
  {
   "cell_type": "code",
   "execution_count": 7,
   "id": "4aebed59-ac14-4dae-af3a-eae0bc67c652",
   "metadata": {},
   "outputs": [
    {
     "data": {
      "text/plain": [
       "model                0\n",
       "vehicle_age          0\n",
       "km_driven            0\n",
       "seller_type          0\n",
       "fuel_type            0\n",
       "transmission_type    0\n",
       "mileage              0\n",
       "engine               0\n",
       "max_power            0\n",
       "seats                0\n",
       "selling_price        0\n",
       "dtype: int64"
      ]
     },
     "execution_count": 7,
     "metadata": {},
     "output_type": "execute_result"
    }
   ],
   "source": [
    "df.isnull().sum()"
   ]
  },
  {
   "cell_type": "code",
   "execution_count": 8,
   "id": "67955161-a94a-4cb4-a5a8-9a6179947c54",
   "metadata": {},
   "outputs": [
    {
     "name": "stdout",
     "output_type": "stream",
     "text": [
      "<class 'pandas.core.frame.DataFrame'>\n",
      "RangeIndex: 15411 entries, 0 to 15410\n",
      "Data columns (total 11 columns):\n",
      " #   Column             Non-Null Count  Dtype  \n",
      "---  ------             --------------  -----  \n",
      " 0   model              15411 non-null  object \n",
      " 1   vehicle_age        15411 non-null  int64  \n",
      " 2   km_driven          15411 non-null  int64  \n",
      " 3   seller_type        15411 non-null  object \n",
      " 4   fuel_type          15411 non-null  object \n",
      " 5   transmission_type  15411 non-null  object \n",
      " 6   mileage            15411 non-null  float64\n",
      " 7   engine             15411 non-null  int64  \n",
      " 8   max_power          15411 non-null  float64\n",
      " 9   seats              15411 non-null  int64  \n",
      " 10  selling_price      15411 non-null  int64  \n",
      "dtypes: float64(2), int64(5), object(4)\n",
      "memory usage: 1.3+ MB\n"
     ]
    }
   ],
   "source": [
    "df.info()"
   ]
  },
  {
   "cell_type": "code",
   "execution_count": 12,
   "id": "442833ac-224e-4765-8b5e-662937ed1dda",
   "metadata": {},
   "outputs": [],
   "source": [
    "# separating numeric features -(discrete , continuous) , categorical features \n",
    "\n",
    "num_cols = df.select_dtypes(exclude='object').columns\n",
    "cat_cols = df.select_dtypes(include='object').columns\n",
    "\n",
    "dis_feats = [feat for feat in num_cols if (len(df[feat].unique()))>=25]\n",
    "cont_feats = [feat for feat in num_cols if feat not in dis_feats]"
   ]
  },
  {
   "cell_type": "code",
   "execution_count": 13,
   "id": "e3bdd6c8-97a2-453e-b440-e5b6d3cc0ef2",
   "metadata": {},
   "outputs": [],
   "source": [
    "# labesls & target\n",
    "X = df.drop('selling_price',axis=1)\n",
    "y = df['selling_price']"
   ]
  },
  {
   "cell_type": "code",
   "execution_count": 20,
   "id": "8ec2a315-1f72-44c3-b5f4-45b65095696d",
   "metadata": {},
   "outputs": [
    {
     "data": {
      "text/plain": [
       "120"
      ]
     },
     "execution_count": 20,
     "metadata": {},
     "output_type": "execute_result"
    }
   ],
   "source": [
    "# Encodind : Label & OneHot\n",
    "\n",
    "len(df['model'].unique())"
   ]
  },
  {
   "cell_type": "code",
   "execution_count": 22,
   "id": "e398d5ce-ce05-4203-b992-1279b03e7127",
   "metadata": {},
   "outputs": [],
   "source": [
    "from sklearn.preprocessing import LabelEncoder,OneHotEncoder\n",
    "from sklearn.compose import ColumnTransformer\n",
    "\n",
    "le = LabelEncoder()\n",
    "X['model'] = le.fit_transform(X['model'])\n",
    "\n",
    "oh_cols = ['seller_type','fuel_type','transmission_type']\n",
    "\n",
    "oh = OneHotEncoder()\n",
    "\n",
    "preprocessor = ColumnTransformer(\n",
    "    [('OneHotEn',oh,oh_cols)],\n",
    "    remainder = 'passthrough'\n",
    ")\n",
    "\n",
    "X = preprocessor.fit_transform(X)"
   ]
  },
  {
   "cell_type": "code",
   "execution_count": 31,
   "id": "8f3bd1b2-056b-42d9-a046-401c5319fad6",
   "metadata": {},
   "outputs": [],
   "source": [
    "# train test split\n",
    "from sklearn.model_selection import train_test_split\n",
    "X_train,X_test,y_train,y_test = train_test_split(X,y,test_size=0.20,random_state=42)"
   ]
  },
  {
   "cell_type": "code",
   "execution_count": 32,
   "id": "1293fd52-d10f-42b0-8823-27283e8bb1a7",
   "metadata": {},
   "outputs": [],
   "source": [
    "# model fitting & training\n",
    "\n",
    "from sklearn.ensemble import RandomForestRegressor\n",
    "from sklearn.linear_model import LinearRegression,Ridge,Lasso\n",
    "from sklearn.tree import DecisionTreeRegressor\n",
    "from sklearn.neighbors import KNeighborsRegressor"
   ]
  },
  {
   "cell_type": "code",
   "execution_count": 33,
   "id": "24ffd50e-9665-4a29-98db-62bd1a750ed5",
   "metadata": {},
   "outputs": [],
   "source": [
    "from sklearn.metrics import r2_score,mean_absolute_error,mean_squared_error\n",
    "\n",
    "def evaluate_models(true_vals,pred_vals):\n",
    "    mae = mean_absolute_error(true_vals,pred_vals)\n",
    "    mse = mean_squared_error(true_vals,pred_vals)\n",
    "    rmse = np.sqrt(mse)\n",
    "    r2 = r2_score(true_vals,pred_vals)\n",
    "\n",
    "    return mae,rmse,r2"
   ]
  },
  {
   "cell_type": "code",
   "execution_count": 35,
   "id": "0d3fab4c-faf4-4dda-99cc-4d1c5760e678",
   "metadata": {},
   "outputs": [
    {
     "name": "stdout",
     "output_type": "stream",
     "text": [
      "------model performance of Linear Regression for training set-------\n",
      " mae = 268101.607\n",
      " rmse = 553855.667\n",
      " r2_score = 0.622\n",
      "---------------\n",
      "------model performance of Linear Regression for test set-------\n",
      " mae = 279618.579\n",
      " rmse = 502543.593\n",
      " r2_score = 0.665\n",
      "------model performance of Lasso for training set-------\n",
      " mae = 268099.903\n",
      " rmse = 553855.671\n",
      " r2_score = 0.622\n",
      "---------------\n",
      "------model performance of Lasso for test set-------\n",
      " mae = 279615.401\n",
      " rmse = 502543.012\n",
      " r2_score = 0.665\n",
      "------model performance of Ridge for training set-------\n",
      " mae = 268078.925\n",
      " rmse = 553856.301\n",
      " r2_score = 0.622\n",
      "---------------\n",
      "------model performance of Ridge for test set-------\n",
      " mae = 279574.856\n",
      " rmse = 502538.500\n",
      " r2_score = 0.665\n",
      "------model performance of KNN-Reg for training set-------\n",
      " mae = 193685.707\n",
      " rmse = 485514.714\n",
      " r2_score = 0.709\n",
      "---------------\n",
      "------model performance of KNN-Reg for test set-------\n",
      " mae = 255604.517\n",
      " rmse = 523547.121\n",
      " r2_score = 0.636\n",
      "------model performance of DT-Reg for training set-------\n",
      " mae = 5164.820\n",
      " rmse = 20797.235\n",
      " r2_score = 0.999\n",
      "---------------\n",
      "------model performance of DT-Reg for test set-------\n",
      " mae = 123626.411\n",
      " rmse = 299981.789\n",
      " r2_score = 0.880\n",
      "------model performance of RF-Reg for training set-------\n",
      " mae = 39925.934\n",
      " rmse = 134249.922\n",
      " r2_score = 0.978\n",
      "---------------\n",
      "------model performance of RF-Reg for test set-------\n",
      " mae = 101272.067\n",
      " rmse = 224394.821\n",
      " r2_score = 0.933\n"
     ]
    }
   ],
   "source": [
    "models = {\n",
    "    \"Linear Regression\":LinearRegression(),\n",
    "    'Lasso':Lasso(),\n",
    "    'Ridge':Ridge(),\n",
    "    'KNN-Reg':KNeighborsRegressor(),\n",
    "    'DT-Reg' :DecisionTreeRegressor(),\n",
    "    'RF-Reg' :RandomForestRegressor()\n",
    "}\n",
    "\n",
    "for name,model in models.items():\n",
    "    model.fit(X_train,y_train)\n",
    "\n",
    "    y_train_pred = model.predict(X_train)\n",
    "    y_test_pred = model.predict(X_test)\n",
    "\n",
    "    model_train_mae , model_train_rmse, model_train_r2 = evaluate_models(y_train,y_train_pred)\n",
    "    model_test_mae , model_test_rmse, model_test_r2 = evaluate_models(y_test,y_test_pred)\n",
    "\n",
    "    print(f'------model performance of {name} for training set-------')\n",
    "    print(f' mae = {model_train_mae:.3f}')\n",
    "    print(f' rmse = {model_train_rmse:.3f}')\n",
    "    print(f' r2_score = {model_train_r2:.3f}')\n",
    "    print('-'*15)\n",
    "    print(f'------model performance of {name} for test set-------')\n",
    "    print(f' mae = {model_test_mae:.3f}')\n",
    "    print(f' rmse = {model_test_rmse:.3f}')\n",
    "    print(f' r2_score = {model_test_r2:.3f}')"
   ]
  },
  {
   "cell_type": "code",
   "execution_count": 42,
   "id": "b79c4eeb-3c27-463e-a33f-c182f5c4f9c6",
   "metadata": {},
   "outputs": [],
   "source": [
    "# selecting best performing model & hyperparameter tunning them to get even better performance\n",
    "\n",
    "dtr_params = {'max_depth':[1,2,5,10],'splitter':['best','random']}\n",
    "\n",
    "rfr_params = {\n",
    "    'max_depth':[5,8,15,None,10],\n",
    "    'max_features':[5,7,'auto',8],\n",
    "    'min_samples_split':[2,8,15,20],\n",
    "    'n_estimators':[100,200,500,1000]\n",
    "}\n",
    "\n",
    "randomcv_models = [\n",
    "    ('DF-Reg',DecisionTreeRegressor(),dtr_params),\n",
    "    ('RF-Reg',RandomForestRegressor(),rfr_params)\n",
    "]"
   ]
  },
  {
   "cell_type": "code",
   "execution_count": 50,
   "id": "a4091f5e-4171-4aa5-9de3-4ce86ee81ac0",
   "metadata": {},
   "outputs": [
    {
     "name": "stdout",
     "output_type": "stream",
     "text": [
      "------ Best Params for DF-Reg------\n",
      "{'splitter': 'best', 'max_depth': 10}\n",
      "------ Best Params for RF-Reg------\n",
      "{'n_estimators': 200, 'min_samples_split': 8, 'max_features': 8, 'max_depth': None}\n"
     ]
    }
   ],
   "source": [
    "# Hyperparam tunning\n",
    "\n",
    "import warnings;warnings.filterwarnings('ignore')\n",
    "\n",
    "from sklearn.model_selection import RandomizedSearchCV\n",
    "\n",
    "model_params = {}\n",
    "\n",
    "for name,model,params in randomcv_models:\n",
    "    random = RandomizedSearchCV(model,\n",
    "                                param_distributions=params,\n",
    "                                cv=3)\n",
    "\n",
    "    random.fit(X_train,y_train)\n",
    "\n",
    "    model_params[name]=random.best_params_\n",
    "\n",
    "for model_name in model_params:\n",
    "    print(f'------ Best Params for {model_name}------')\n",
    "    print(model_params[model_name])"
   ]
  },
  {
   "cell_type": "code",
   "execution_count": 51,
   "id": "c97c7a75-2472-402f-81a2-041f0a2ceb3c",
   "metadata": {},
   "outputs": [
    {
     "name": "stdout",
     "output_type": "stream",
     "text": [
      "------model performance of DT-Reg for training set-------\n",
      " mae = 87464.270\n",
      " rmse = 159038.308\n",
      " r2_score = 0.969\n",
      "---------------\n",
      "------model performance of DT-Reg for test set-------\n",
      " mae = 125858.610\n",
      " rmse = 317574.015\n",
      " r2_score = 0.866\n",
      "------model performance of RF-Reg for training set-------\n",
      " mae = 66587.785\n",
      " rmse = 187436.765\n",
      " r2_score = 0.957\n",
      "---------------\n",
      "------model performance of RF-Reg for test set-------\n",
      " mae = 100513.850\n",
      " rmse = 222862.444\n",
      " r2_score = 0.934\n"
     ]
    }
   ],
   "source": [
    "# substituting best params back to models\n",
    "\n",
    "models = {\n",
    "    'DT-Reg':DecisionTreeRegressor(splitter='best' ,max_depth =10),\n",
    "    'RF-Reg':RandomForestRegressor(n_estimators=200, min_samples_split=8, max_features=8, max_depth=None)\n",
    "}\n",
    "\n",
    "for name,model in models.items():\n",
    "    model.fit(X_train,y_train)\n",
    "\n",
    "    y_train_pred = model.predict(X_train)\n",
    "    y_test_pred=model.predict(X_test)\n",
    "\n",
    "    model_train_mae , model_train_rmse, model_train_r2 = evaluate_models(y_train,y_train_pred)\n",
    "    model_test_mae , model_test_rmse, model_test_r2 = evaluate_models(y_test,y_test_pred)\n",
    "\n",
    "    print(f'------model performance of {name} for training set-------')\n",
    "    print(f' mae = {model_train_mae:.3f}')\n",
    "    print(f' rmse = {model_train_rmse:.3f}')\n",
    "    print(f' r2_score = {model_train_r2:.3f}')\n",
    "    print('-'*15)\n",
    "    print(f'------model performance of {name} for test set-------')\n",
    "    print(f' mae = {model_test_mae:.3f}')\n",
    "    print(f' rmse = {model_test_rmse:.3f}')\n",
    "    print(f' r2_score = {model_test_r2:.3f}')"
   ]
  }
 ],
 "metadata": {
  "kernelspec": {
   "display_name": "Python 3 (ipykernel)",
   "language": "python",
   "name": "python3"
  },
  "language_info": {
   "codemirror_mode": {
    "name": "ipython",
    "version": 3
   },
   "file_extension": ".py",
   "mimetype": "text/x-python",
   "name": "python",
   "nbconvert_exporter": "python",
   "pygments_lexer": "ipython3",
   "version": "3.13.5"
  }
 },
 "nbformat": 4,
 "nbformat_minor": 5
}
